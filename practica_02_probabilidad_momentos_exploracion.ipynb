{
 "cells": [
  {
   "cell_type": "markdown",
   "metadata": {},
   "source": [
    "![imagen](https://upload.wikimedia.org/wikipedia/commons/thumb/b/b0/Logo_Universidad_Polit%C3%A9cnica_Salesiana_del_Ecuador.png/640px-Logo_Universidad_Polit%C3%A9cnica_Salesiana_del_Ecuador.png)\n",
    "# Practica 2\n",
    "## Repaso de probabilidad, Momentos y Exploración de datos masivos"
   ]
  },
  {
   "cell_type": "markdown",
   "metadata": {},
   "source": [
    "## Parte 1\n",
    "\n",
    "### Ejercicio 1. \n",
    "\n",
    "Siendo X el peso Siendo X el peso de una población X1, X2, …, X10. Calcular la media, la varianza y la desviación estándar.\n",
    "\n",
    "$X= [165.5, 175.4, 144.1, 178.5, 168, 157.9, 170.1, 202.5, 145.5, 135.7]$"
   ]
  },
  {
   "cell_type": "markdown",
   "metadata": {},
   "source": [
    "### Resolución Manual:\n"
   ]
  },
  {
   "cell_type": "markdown",
   "metadata": {},
   "source": [
    "### Resolución en Python:\n"
   ]
  },
  {
   "cell_type": "code",
   "execution_count": 9,
   "metadata": {},
   "outputs": [
    {
     "name": "stdout",
     "output_type": "stream",
     "text": [
      "Media: 164.32\n",
      "Varianza: 383.6951111111112\n",
      "Desviación estándar: 19.58813699949822\n"
     ]
    }
   ],
   "source": [
    "import numpy as np\n",
    "\n",
    "X = [165.5, 175.4, 144.1, 178.5, 168, 157.9, 170.1, 202.5, 145.5, 135.7]\n",
    "\n",
    "# Convertir la lista a un array de NumPy\n",
    "X_array = np.array(X)\n",
    "\n",
    "# Calculo de la media:\n",
    "media = np.mean(X_array)\n",
    "print(\"Media:\", media)\n",
    "\n",
    "# Calculo de la varianza:\n",
    "varianza = np.var(X_array, ddof=1)  # ddof=1 para calcular la varianza muestral\n",
    "print(\"Varianza:\", varianza)\n",
    "\n",
    "# Calculo de la desviacion estandar:\n",
    "desviacion_estandar = np.std(X_array, ddof=1)  # ddof=1 para calcular la desviacion estandar muestral\n",
    "print(\"Desviación estándar:\", desviacion_estandar)"
   ]
  },
  {
   "cell_type": "markdown",
   "metadata": {},
   "source": [
    "\n",
    "### Ejercicio 2\n",
    "\n",
    "$ \n",
    "P_{X,Y}(x,y) = \n",
    "                  \\begin{cases}\n",
    "                    \\frac{1}{2}, & x=1, y=4 \\\\\n",
    "                    \\frac{1}{3}, & x=3, y=6 \\\\\n",
    "                    \\frac{1}{6}, & x=5, y=8 \\\\\n",
    "                    0, & \\text{otro caso} \\\\\n",
    "                  \\end{cases}\n",
    "$\n",
    "\n",
    "Calcular la correlación $corr(X,Y)$\n"
   ]
  },
  {
   "cell_type": "markdown",
   "metadata": {},
   "source": [
    "### Resolucion en Python"
   ]
  },
  {
   "cell_type": "code",
   "execution_count": 10,
   "metadata": {},
   "outputs": [
    {
     "name": "stdout",
     "output_type": "stream",
     "text": [
      "Correlación corr(X,Y): 1.0\n"
     ]
    }
   ],
   "source": [
    "import numpy as np\n",
    "\n",
    "# Definir los valores de X e Y y sus probabilidades\n",
    "X = np.array([1, 3, 5])\n",
    "Y = np.array([4, 6, 8])\n",
    "probabilidades = np.array([1/2, 1/3, 1/6])\n",
    "\n",
    "# Calcular la media de X e Y\n",
    "media_X = np.sum(X * probabilidades)\n",
    "media_Y = np.sum(Y * probabilidades)\n",
    "\n",
    "# Calcular la covarianza de X e Y\n",
    "covarianza_XY = np.sum((X - media_X) * (Y - media_Y) * probabilidades)\n",
    "\n",
    "# Calcular las desviaciones estándar de X e Y\n",
    "desviacion_estandar_X = np.sqrt(np.sum((X - media_X)**2 * probabilidades))\n",
    "desviacion_estandar_Y = np.sqrt(np.sum((Y - media_Y)**2 * probabilidades))\n",
    "\n",
    "# Calcular la correlación\n",
    "correlacion_XY = covarianza_XY / (desviacion_estandar_X * desviacion_estandar_Y)\n",
    "\n",
    "print(\"Correlación corr(X,Y):\", correlacion_XY)\n"
   ]
  }
 ],
 "metadata": {
  "kernelspec": {
   "display_name": "base",
   "language": "python",
   "name": "python3"
  },
  "language_info": {
   "codemirror_mode": {
    "name": "ipython",
    "version": 3
   },
   "file_extension": ".py",
   "mimetype": "text/x-python",
   "name": "python",
   "nbconvert_exporter": "python",
   "pygments_lexer": "ipython3",
   "version": "3.11.5"
  }
 },
 "nbformat": 4,
 "nbformat_minor": 2
}
